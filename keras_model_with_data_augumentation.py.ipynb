{
 "cells": [
  {
   "cell_type": "code",
   "execution_count": null,
   "metadata": {},
   "outputs": [],
   "source": [
    "from keras.models import Sequential\n",
    "from keras.layers.core import Dense, Activation, Flatten, Dropout\n",
    "from keras.layers.convolutional import Conv2D\n",
    "from keras.layers.pooling import MaxPooling2D\n",
    "from keras.preprocessing.image import ImageDataGenerator\n",
    "\n",
    "def get_lenet_keras_model():\n",
    "    model = Sequential()\n",
    "    model.add(Conv2D(7, 3, input_shape=(32, 32, 1)))\n",
    "    model.add(MaxPooling2D(2))\n",
    "    model.add(Activation('relu'))\n",
    "    model.add(Flatten())\n",
    "    model.add(Dense(220))\n",
    "    model.add(Dropout(0.5))\n",
    "    model.add(Activation('relu'))\n",
    "    model.add(Dense(120))\n",
    "    model.add(Activation('relu'))\n",
    "    model.add(Dense(43))\n",
    "    model.add(Activation('softmax'))\n",
    "    return model\n",
    "\n",
    "\n",
    "def get_data_gen(x_train):\n",
    "    datagen = ImageDataGenerator(\n",
    "        featurewise_center=False,\n",
    "        featurewise_std_normalization=False,\n",
    "        rotation_range=0.1,\n",
    "        width_shift_range=0.1,\n",
    "        height_shift_range=0.1,\n",
    "        vertical_flip=True)\n",
    "    datagen.fit(x_train)\n",
    "    return datagen\n",
    "\n",
    "datagen = get_data_gen(X_train_normalized)\n",
    "\n",
    "history = model.fit_generator(\n",
    "    datagen.flow(X_train_normalized, y_one_hot, batch_size=32), \n",
    "    steps_per_epoch=len(X_train_normalized), \n",
    "    epochs=30,\n",
    "    validation_data=(X_valid_normalized, y_one_hot_valid))\n",
    "\n"
   ]
  },
  {
   "cell_type": "code",
   "execution_count": null,
   "metadata": {},
   "outputs": [],
   "source": [
    "from sklearn.preprocessing import LabelBinarizer\n",
    "\n",
    "label_binarizer = LabelBinarizer()\n",
    "y_one_hot = label_binarizer.fit_transform(y_train)\n",
    "y_one_hot_valid = label_binarizer.fit_transform(y_valid)\n",
    "\n",
    "model = get_lenet_keras_model()\n",
    "\n",
    "# compile and fit model\n",
    "model.compile('adam', 'categorical_crossentropy', ['accuracy'])"
   ]
  }
 ],
 "metadata": {
  "kernelspec": {
   "display_name": "Python 3",
   "language": "python",
   "name": "python3"
  },
  "language_info": {
   "codemirror_mode": {
    "name": "ipython",
    "version": 3
   },
   "file_extension": ".py",
   "mimetype": "text/x-python",
   "name": "python",
   "nbconvert_exporter": "python",
   "pygments_lexer": "ipython3",
   "version": "3.5.5"
  },
  "widgets": {
   "state": {},
   "version": "1.1.2"
  }
 },
 "nbformat": 4,
 "nbformat_minor": 2
}
